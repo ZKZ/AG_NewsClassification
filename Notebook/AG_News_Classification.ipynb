{
  "nbformat": 4,
  "nbformat_minor": 0,
  "metadata": {
    "colab": {
      "name": "AG News Classification.ipynb",
      "provenance": [],
      "collapsed_sections": []
    },
    "kernelspec": {
      "name": "python3",
      "display_name": "Python 3"
    },
    "accelerator": "GPU"
  },
  "cells": [
    {
      "cell_type": "markdown",
      "metadata": {
        "id": "EPZa3f42krwz"
      },
      "source": [
        "## Mount Drive"
      ]
    },
    {
      "cell_type": "code",
      "metadata": {
        "colab": {
          "base_uri": "https://localhost:8080/"
        },
        "id": "ASj6g5P2a9XU",
        "outputId": "3735378b-b084-46f2-b9ac-31d3801c62b2"
      },
      "source": [
        "from google.colab import drive\r\n",
        "drive.mount('/content/MyDrive')"
      ],
      "execution_count": 1,
      "outputs": [
        {
          "output_type": "stream",
          "text": [
            "Mounted at /content/MyDrive\n"
          ],
          "name": "stdout"
        }
      ]
    },
    {
      "cell_type": "markdown",
      "metadata": {
        "id": "VshARt06kwaM"
      },
      "source": [
        "## Libraries"
      ]
    },
    {
      "cell_type": "code",
      "metadata": {
        "id": "QhTKStzQdKFo"
      },
      "source": [
        "import pandas as pd\r\n",
        "import numpy as np\r\n",
        "\r\n",
        "#Data Visualization\r\n",
        "import matplotlib.pyplot as plt\r\n",
        "\r\n",
        "#Train Test Split\r\n",
        "from sklearn.model_selection import train_test_split\r\n",
        "\r\n",
        "#Model Evaluation\r\n",
        "from sklearn.metrics import confusion_matrix, precision_score, recall_score, accuracy_score\r\n",
        "from mlxtend.plotting import plot_confusion_matrix\r\n",
        "\r\n",
        "#Deep Learning\r\n",
        "import tensorflow as tf\r\n",
        "from tensorflow.keras.models import Model, Sequential\r\n",
        "from tensorflow.keras.layers import Embedding, LSTM, Dense, Dropout, GlobalMaxPooling1D, Bidirectional\r\n",
        "from tensorflow.keras.preprocessing.text import Tokenizer\r\n",
        "from tensorflow.keras.optimizers import Adam\r\n",
        "from tensorflow.keras.preprocessing.sequence import pad_sequences\r\n",
        "from tensorflow.keras.callbacks import ModelCheckpoint, EarlyStopping\r\n",
        "from tensorflow.keras.utils import plot_model"
      ],
      "execution_count": 2,
      "outputs": []
    },
    {
      "cell_type": "markdown",
      "metadata": {
        "id": "goVtDzzelMOO"
      },
      "source": [
        "## Data Preprocessing"
      ]
    },
    {
      "cell_type": "code",
      "metadata": {
        "colab": {
          "base_uri": "https://localhost:8080/",
          "height": 204
        },
        "id": "J2g4NfecdWGw",
        "outputId": "cbb5076f-fb25-4736-f519-7746ac812caf"
      },
      "source": [
        "#File Path\r\n",
        "TRAIN_FILE_PATH = '/content/MyDrive/MyDrive/Data Science/Projects/SpoonShot/train.csv'\r\n",
        "TEST_FILE_PATH = '/content/MyDrive/MyDrive/Data Science/Projects/SpoonShot/test.csv'\r\n",
        "\r\n",
        "#Load Data\r\n",
        "data = pd.read_csv(TRAIN_FILE_PATH)\r\n",
        "testdata = pd.read_csv(TEST_FILE_PATH)\r\n",
        "\r\n",
        "#Set Column Names \r\n",
        "data.columns = ['ClassIndex', 'Title', 'Description']\r\n",
        "testdata.columns = ['ClassIndex', 'Title', 'Description']\r\n",
        "\r\n",
        "#Combine Title and Description\r\n",
        "X_train = data['Title'] + \" \" + data['Description'] # Combine title and description (better accuracy than using them as separate features)\r\n",
        "y_train = data['ClassIndex'].apply(lambda x: x-1).values # Class labels need to begin from 0\r\n",
        "\r\n",
        "x_test = testdata['Title'] + \" \" + testdata['Description'] # Combine title and description (better accuracy than using them as separate features)\r\n",
        "y_test = testdata['ClassIndex'].apply(lambda x: x-1).values # Class labels need to begin from 0\r\n",
        "\r\n",
        "#Max Length of sentences in Train Dataset\r\n",
        "maxlen = X_train.map(lambda x: len(x.split())).max()\r\n",
        "data.head()"
      ],
      "execution_count": 3,
      "outputs": [
        {
          "output_type": "execute_result",
          "data": {
            "text/html": [
              "<div>\n",
              "<style scoped>\n",
              "    .dataframe tbody tr th:only-of-type {\n",
              "        vertical-align: middle;\n",
              "    }\n",
              "\n",
              "    .dataframe tbody tr th {\n",
              "        vertical-align: top;\n",
              "    }\n",
              "\n",
              "    .dataframe thead th {\n",
              "        text-align: right;\n",
              "    }\n",
              "</style>\n",
              "<table border=\"1\" class=\"dataframe\">\n",
              "  <thead>\n",
              "    <tr style=\"text-align: right;\">\n",
              "      <th></th>\n",
              "      <th>ClassIndex</th>\n",
              "      <th>Title</th>\n",
              "      <th>Description</th>\n",
              "    </tr>\n",
              "  </thead>\n",
              "  <tbody>\n",
              "    <tr>\n",
              "      <th>0</th>\n",
              "      <td>3</td>\n",
              "      <td>Carlyle Looks Toward Commercial Aerospace (Reu...</td>\n",
              "      <td>Reuters - Private investment firm Carlyle Grou...</td>\n",
              "    </tr>\n",
              "    <tr>\n",
              "      <th>1</th>\n",
              "      <td>3</td>\n",
              "      <td>Oil and Economy Cloud Stocks' Outlook (Reuters)</td>\n",
              "      <td>Reuters - Soaring crude prices plus worries\\ab...</td>\n",
              "    </tr>\n",
              "    <tr>\n",
              "      <th>2</th>\n",
              "      <td>3</td>\n",
              "      <td>Iraq Halts Oil Exports from Main Southern Pipe...</td>\n",
              "      <td>Reuters - Authorities have halted oil export\\f...</td>\n",
              "    </tr>\n",
              "    <tr>\n",
              "      <th>3</th>\n",
              "      <td>3</td>\n",
              "      <td>Oil prices soar to all-time record, posing new...</td>\n",
              "      <td>AFP - Tearaway world oil prices, toppling reco...</td>\n",
              "    </tr>\n",
              "    <tr>\n",
              "      <th>4</th>\n",
              "      <td>3</td>\n",
              "      <td>Stocks End Up, But Near Year Lows (Reuters)</td>\n",
              "      <td>Reuters - Stocks ended slightly higher on Frid...</td>\n",
              "    </tr>\n",
              "  </tbody>\n",
              "</table>\n",
              "</div>"
            ],
            "text/plain": [
              "   ClassIndex  ...                                        Description\n",
              "0           3  ...  Reuters - Private investment firm Carlyle Grou...\n",
              "1           3  ...  Reuters - Soaring crude prices plus worries\\ab...\n",
              "2           3  ...  Reuters - Authorities have halted oil export\\f...\n",
              "3           3  ...  AFP - Tearaway world oil prices, toppling reco...\n",
              "4           3  ...  Reuters - Stocks ended slightly higher on Frid...\n",
              "\n",
              "[5 rows x 3 columns]"
            ]
          },
          "metadata": {
            "tags": []
          },
          "execution_count": 3
        }
      ]
    },
    {
      "cell_type": "markdown",
      "metadata": {
        "id": "0lZqq9zLrXMC"
      },
      "source": [
        "## Exploratory Data Analysis"
      ]
    },
    {
      "cell_type": "markdown",
      "metadata": {
        "id": "v8vJ7tio9bmR"
      },
      "source": [
        "### Data Shape"
      ]
    },
    {
      "cell_type": "code",
      "metadata": {
        "colab": {
          "base_uri": "https://localhost:8080/"
        },
        "id": "zSonlU5Ara6n",
        "outputId": "5c4ea250-bafa-4dfe-a36e-ad8d17c1d83e"
      },
      "source": [
        "data.shape, testdata.shape"
      ],
      "execution_count": 40,
      "outputs": [
        {
          "output_type": "execute_result",
          "data": {
            "text/plain": [
              "((119999, 3), (7599, 3))"
            ]
          },
          "metadata": {
            "tags": []
          },
          "execution_count": 40
        }
      ]
    },
    {
      "cell_type": "markdown",
      "metadata": {
        "id": "wzpW4SCu9eWl"
      },
      "source": [
        "### Value Counts"
      ]
    },
    {
      "cell_type": "code",
      "metadata": {
        "colab": {
          "base_uri": "https://localhost:8080/"
        },
        "id": "6ehyOshjromr",
        "outputId": "e2c81a05-ec81-4eb9-d830-a8015eb52bbf"
      },
      "source": [
        "#Checking Value counts to determine class balance\r\n",
        "data.ClassIndex.value_counts()"
      ],
      "execution_count": 42,
      "outputs": [
        {
          "output_type": "execute_result",
          "data": {
            "text/plain": [
              "4    30000\n",
              "2    30000\n",
              "1    30000\n",
              "3    29999\n",
              "Name: ClassIndex, dtype: int64"
            ]
          },
          "metadata": {
            "tags": []
          },
          "execution_count": 42
        }
      ]
    },
    {
      "cell_type": "code",
      "metadata": {
        "colab": {
          "base_uri": "https://localhost:8080/"
        },
        "id": "m_9MdzEss55g",
        "outputId": "f61078e2-9473-4f11-8224-ca579990c98c"
      },
      "source": [
        "testdata.ClassIndex.value_counts()"
      ],
      "execution_count": 4,
      "outputs": [
        {
          "output_type": "execute_result",
          "data": {
            "text/plain": [
              "2    1900\n",
              "1    1900\n",
              "4    1900\n",
              "3    1899\n",
              "Name: ClassIndex, dtype: int64"
            ]
          },
          "metadata": {
            "tags": []
          },
          "execution_count": 4
        }
      ]
    },
    {
      "cell_type": "markdown",
      "metadata": {
        "id": "UL-BO8rc9jHC"
      },
      "source": [
        "### Null Values"
      ]
    },
    {
      "cell_type": "code",
      "metadata": {
        "colab": {
          "base_uri": "https://localhost:8080/"
        },
        "id": "1ZuJcoiJ9Yss",
        "outputId": "9841a0bf-36e1-4171-d583-36f783b17663"
      },
      "source": [
        "#Train Data\r\n",
        "data.isnull().sum()"
      ],
      "execution_count": 5,
      "outputs": [
        {
          "output_type": "execute_result",
          "data": {
            "text/plain": [
              "ClassIndex     0\n",
              "Title          0\n",
              "Description    0\n",
              "dtype: int64"
            ]
          },
          "metadata": {
            "tags": []
          },
          "execution_count": 5
        }
      ]
    },
    {
      "cell_type": "code",
      "metadata": {
        "colab": {
          "base_uri": "https://localhost:8080/"
        },
        "id": "8e_5I-zc9pJz",
        "outputId": "80df5755-80e5-442c-a0d5-985f2045ec12"
      },
      "source": [
        "#Test Data\r\n",
        "testdata.isnull().sum()"
      ],
      "execution_count": 6,
      "outputs": [
        {
          "output_type": "execute_result",
          "data": {
            "text/plain": [
              "ClassIndex     0\n",
              "Title          0\n",
              "Description    0\n",
              "dtype: int64"
            ]
          },
          "metadata": {
            "tags": []
          },
          "execution_count": 6
        }
      ]
    },
    {
      "cell_type": "markdown",
      "metadata": {
        "id": "USpvicJifoQ8"
      },
      "source": [
        "## Tokenize and Pad Data"
      ]
    },
    {
      "cell_type": "code",
      "metadata": {
        "id": "QIaVaaiDe9m4"
      },
      "source": [
        "vocab_size = 10000 # arbitrarily chosen\r\n",
        "embed_size = 32 # arbitrarily chosen\r\n",
        "\r\n",
        "# Create and Fit tokenizer\r\n",
        "tok = Tokenizer(num_words=vocab_size)\r\n",
        "tok.fit_on_texts(X_train.values)\r\n",
        "\r\n",
        "# Tokenize data\r\n",
        "X_train = tok.texts_to_sequences(X_train)\r\n",
        "x_test = tok.texts_to_sequences(x_test)\r\n",
        "\r\n",
        "# Pad data\r\n",
        "X_train = pad_sequences(X_train, maxlen=maxlen)\r\n",
        "x_test = pad_sequences(x_test, maxlen=maxlen)"
      ],
      "execution_count": 7,
      "outputs": []
    },
    {
      "cell_type": "markdown",
      "metadata": {
        "id": "0UP_HEHffwLi"
      },
      "source": [
        "## Model"
      ]
    },
    {
      "cell_type": "markdown",
      "metadata": {
        "id": "kKh4ldNJmeBk"
      },
      "source": [
        "**BiDirectional LSTM** - Using bidirectional will run our inputs in two ways, one from past to future and one from future to past and what differs this approach from unidirectional is that in the LSTM that runs backwards we preserve information from the future and using the two hidden states combined we are able in any point in time to preserve information from both past and future."
      ]
    },
    {
      "cell_type": "code",
      "metadata": {
        "colab": {
          "base_uri": "https://localhost:8080/"
        },
        "id": "Zr0tX6QofrHd",
        "outputId": "67b3eb54-0d97-492f-92fc-085861e6711b"
      },
      "source": [
        "model = Sequential()\r\n",
        "model.add(Embedding(vocab_size, embed_size, input_length=maxlen))\r\n",
        "model.add(Bidirectional(LSTM(128, return_sequences=True))) \r\n",
        "model.add(Bidirectional(LSTM(64, return_sequences=True)))\r\n",
        "model.add(GlobalMaxPooling1D())\r\n",
        "model.add(Dense(1024))\r\n",
        "model.add(Dropout(0.25))\r\n",
        "model.add(Dense(512))\r\n",
        "model.add(Dropout(0.25))\r\n",
        "model.add(Dense(256))\r\n",
        "model.add(Dropout(0.25))\r\n",
        "model.add(Dense(128))\r\n",
        "model.add(Dropout(0.25))\r\n",
        "model.add(Dense(64))\r\n",
        "model.add(Dropout(0.25))\r\n",
        "model.add(Dense(4, activation='softmax')) #softmax is used as the activation function for multi-class classification problems where class membership is required on more than two class labels.\r\n",
        "model.summary()"
      ],
      "execution_count": 27,
      "outputs": [
        {
          "output_type": "stream",
          "text": [
            "Model: \"sequential_1\"\n",
            "_________________________________________________________________\n",
            "Layer (type)                 Output Shape              Param #   \n",
            "=================================================================\n",
            "embedding_1 (Embedding)      (None, 177, 32)           320000    \n",
            "_________________________________________________________________\n",
            "bidirectional_2 (Bidirection (None, 177, 256)          164864    \n",
            "_________________________________________________________________\n",
            "bidirectional_3 (Bidirection (None, 177, 128)          164352    \n",
            "_________________________________________________________________\n",
            "global_max_pooling1d_1 (Glob (None, 128)               0         \n",
            "_________________________________________________________________\n",
            "dense_4 (Dense)              (None, 1024)              132096    \n",
            "_________________________________________________________________\n",
            "dropout_3 (Dropout)          (None, 1024)              0         \n",
            "_________________________________________________________________\n",
            "dense_5 (Dense)              (None, 512)               524800    \n",
            "_________________________________________________________________\n",
            "dropout_4 (Dropout)          (None, 512)               0         \n",
            "_________________________________________________________________\n",
            "dense_6 (Dense)              (None, 256)               131328    \n",
            "_________________________________________________________________\n",
            "dropout_5 (Dropout)          (None, 256)               0         \n",
            "_________________________________________________________________\n",
            "dense_7 (Dense)              (None, 128)               32896     \n",
            "_________________________________________________________________\n",
            "dropout_6 (Dropout)          (None, 128)               0         \n",
            "_________________________________________________________________\n",
            "dense_8 (Dense)              (None, 64)                8256      \n",
            "_________________________________________________________________\n",
            "dropout_7 (Dropout)          (None, 64)                0         \n",
            "_________________________________________________________________\n",
            "dense_9 (Dense)              (None, 4)                 260       \n",
            "=================================================================\n",
            "Total params: 1,478,852\n",
            "Trainable params: 1,478,852\n",
            "Non-trainable params: 0\n",
            "_________________________________________________________________\n"
          ],
          "name": "stdout"
        }
      ]
    },
    {
      "cell_type": "markdown",
      "metadata": {
        "id": "sgzzfcVpf1gA"
      },
      "source": [
        "## Compile and Fit Model"
      ]
    },
    {
      "cell_type": "code",
      "metadata": {
        "id": "5-q_1d0zfvex"
      },
      "source": [
        "callbacks = [\r\n",
        "    EarlyStopping(     #EarlyStopping is used to stop at the epoch where val_accuracy does not improve significantly\r\n",
        "        monitor='val_accuracy',\r\n",
        "        min_delta=1e-4,\r\n",
        "        patience=4,\r\n",
        "        verbose=1\r\n",
        "    ),\r\n",
        "    ModelCheckpoint(\r\n",
        "        filepath='weights.h5',\r\n",
        "        monitor='val_accuracy', \r\n",
        "        mode='max', \r\n",
        "        save_best_only=True,\r\n",
        "        save_weights_only=True,\r\n",
        "        verbose=1\r\n",
        "    )\r\n",
        "]"
      ],
      "execution_count": 28,
      "outputs": []
    },
    {
      "cell_type": "code",
      "metadata": {
        "colab": {
          "base_uri": "https://localhost:8080/"
        },
        "id": "VtRefm2uf1Az",
        "outputId": "7cdf6fd4-8049-4655-c7e1-2df1cf34afbe"
      },
      "source": [
        "#Compile and Fit Model\r\n",
        "\r\n",
        "model.compile(loss='sparse_categorical_crossentropy', #Sparse Categorical Crossentropy Loss because data is not one-hot encoded\r\n",
        "              optimizer='adam', \r\n",
        "              metrics=['accuracy']) \r\n",
        "\r\n",
        "model.fit(X_train, \r\n",
        "          y_train, \r\n",
        "          batch_size=256, \r\n",
        "          validation_data=(x_test, y_test), \r\n",
        "          epochs=20, \r\n",
        "          callbacks=callbacks)"
      ],
      "execution_count": 29,
      "outputs": [
        {
          "output_type": "stream",
          "text": [
            "Epoch 1/20\n",
            "469/469 [==============================] - 44s 84ms/step - loss: 0.6111 - accuracy: 0.7454 - val_loss: 0.2906 - val_accuracy: 0.9049\n",
            "\n",
            "Epoch 00001: val_accuracy improved from -inf to 0.90486, saving model to weights.h5\n",
            "Epoch 2/20\n",
            "469/469 [==============================] - 38s 81ms/step - loss: 0.2353 - accuracy: 0.9245 - val_loss: 0.2735 - val_accuracy: 0.9079\n",
            "\n",
            "Epoch 00002: val_accuracy improved from 0.90486 to 0.90788, saving model to weights.h5\n",
            "Epoch 3/20\n",
            "469/469 [==============================] - 38s 81ms/step - loss: 0.1940 - accuracy: 0.9357 - val_loss: 0.2687 - val_accuracy: 0.9110\n",
            "\n",
            "Epoch 00003: val_accuracy improved from 0.90788 to 0.91104, saving model to weights.h5\n",
            "Epoch 4/20\n",
            "469/469 [==============================] - 38s 80ms/step - loss: 0.1631 - accuracy: 0.9454 - val_loss: 0.2928 - val_accuracy: 0.9074\n",
            "\n",
            "Epoch 00004: val_accuracy did not improve from 0.91104\n",
            "Epoch 5/20\n",
            "469/469 [==============================] - 37s 80ms/step - loss: 0.1275 - accuracy: 0.9566 - val_loss: 0.3215 - val_accuracy: 0.9043\n",
            "\n",
            "Epoch 00005: val_accuracy did not improve from 0.91104\n",
            "Epoch 6/20\n",
            "469/469 [==============================] - 38s 81ms/step - loss: 0.0967 - accuracy: 0.9672 - val_loss: 0.3677 - val_accuracy: 0.9038\n",
            "\n",
            "Epoch 00006: val_accuracy did not improve from 0.91104\n",
            "Epoch 7/20\n",
            "469/469 [==============================] - 37s 80ms/step - loss: 0.0724 - accuracy: 0.9753 - val_loss: 0.4172 - val_accuracy: 0.8970\n",
            "\n",
            "Epoch 00007: val_accuracy did not improve from 0.91104\n",
            "Epoch 00007: early stopping\n"
          ],
          "name": "stdout"
        },
        {
          "output_type": "execute_result",
          "data": {
            "text/plain": [
              "<tensorflow.python.keras.callbacks.History at 0x7fa6974555f8>"
            ]
          },
          "metadata": {
            "tags": []
          },
          "execution_count": 29
        }
      ]
    },
    {
      "cell_type": "markdown",
      "metadata": {
        "id": "wDTCvp8GgBrZ"
      },
      "source": [
        "## Load Weights with Best val Accuracy"
      ]
    },
    {
      "cell_type": "code",
      "metadata": {
        "id": "T-MMQ-HDf8Oo"
      },
      "source": [
        "model.load_weights('weights.h5')\r\n",
        "model.save('model.hdf5')"
      ],
      "execution_count": 30,
      "outputs": []
    },
    {
      "cell_type": "markdown",
      "metadata": {
        "id": "s_kfJnmngKKE"
      },
      "source": [
        "## Test Model With Arbitrary Data"
      ]
    },
    {
      "cell_type": "code",
      "metadata": {
        "colab": {
          "base_uri": "https://localhost:8080/"
        },
        "id": "CDf9lcCbgMio",
        "outputId": "eda36ae4-afc3-4066-8fb2-e4ca3d405022"
      },
      "source": [
        "labels = ['World News', 'Sports News', 'Business News', 'Science-Technology News']\r\n",
        "\r\n",
        "test = ['New evidence of virus risks from wildlife trade', \r\n",
        "        'Coronavirus: Bank pumps £100bn into UK economy to aid recovery', \r\n",
        "        'Trump\\'s bid to end Obama-era immigration policy ruled unlawful', \r\n",
        "        'David Luiz’s future with Arsenal to be decided this week']\r\n",
        "\r\n",
        "test_seq = pad_sequences(tok.texts_to_sequences(test), maxlen=maxlen)\r\n",
        "\r\n",
        "test_preds = [labels[np.argmax(i)] for i in model.predict(test_seq)]\r\n",
        "\r\n",
        "for news, label in zip(test, test_preds):\r\n",
        "    print('{} - {}'.format(news, label))"
      ],
      "execution_count": 15,
      "outputs": [
        {
          "output_type": "stream",
          "text": [
            "New evidence of virus risks from wildlife trade - Science-Technology News\n",
            "Coronavirus: Bank pumps £100bn into UK economy to aid recovery - Business News\n",
            "Trump's bid to end Obama-era immigration policy ruled unlawful - World News\n",
            "David Luiz’s future with Arsenal to be decided this week - Sports News\n"
          ],
          "name": "stdout"
        }
      ]
    },
    {
      "cell_type": "markdown",
      "metadata": {
        "id": "pbry6RbQgQzQ"
      },
      "source": [
        "## Model Evaluation"
      ]
    },
    {
      "cell_type": "markdown",
      "metadata": {
        "id": "cLEKOeTUoSI9"
      },
      "source": [
        "### Confusion Matrix"
      ]
    },
    {
      "cell_type": "code",
      "metadata": {
        "colab": {
          "base_uri": "https://localhost:8080/",
          "height": 734
        },
        "id": "HZow3p11gUex",
        "outputId": "2df53b1b-7086-4e94-b452-3d4e9392b154"
      },
      "source": [
        "preds = [np.argmax(i) for i in model.predict(x_test)]\r\n",
        "cm  = confusion_matrix(y_test, preds)\r\n",
        "plt.figure()\r\n",
        "plot_confusion_matrix(cm, figsize=(16,12), hide_ticks=True, cmap=plt.cm.Blues)\r\n",
        "plt.xticks(range(4), labels, fontsize=12)\r\n",
        "plt.yticks(range(4), labels, fontsize=12)\r\n",
        "plt.show()"
      ],
      "execution_count": 31,
      "outputs": [
        {
          "output_type": "display_data",
          "data": {
            "text/plain": [
              "<Figure size 432x288 with 0 Axes>"
            ]
          },
          "metadata": {
            "tags": []
          }
        },
        {
          "output_type": "display_data",
          "data": {
            "image/png": "[encoded data removed]",
            "text/plain": [
              "<Figure size 1152x864 with 1 Axes>"
            ]
          },
          "metadata": {
            "tags": [],
            "needs_background": "light"
          }
        }
      ]
    },
    {
      "cell_type": "markdown",
      "metadata": {
        "id": "LtJzlv3agZqq"
      },
      "source": [
        "### Recall, Precision and Accuracy"
      ]
    },
    {
      "cell_type": "code",
      "metadata": {
        "colab": {
          "base_uri": "https://localhost:8080/"
        },
        "id": "AO_8EartgbcE",
        "outputId": "93b63e69-b68d-458d-d02f-38900999af30"
      },
      "source": [
        "print(\"Recall of the model is {:.2f}\".format(recall_score(y_test, preds, average='micro')))\r\n",
        "print(\"Precision of the model is {:.2f}\".format(precision_score(y_test, preds, average='micro')))\r\n",
        "print(\"Accuracy of the model is {:.2f}\".format(accuracy_score(y_test, preds)))"
      ],
      "execution_count": 33,
      "outputs": [
        {
          "output_type": "stream",
          "text": [
            "Recall of the model is 0.91\n",
            "Precision of the model is 0.91\n",
            "Accuracy of the model is 0.91\n"
          ],
          "name": "stdout"
        }
      ]
    }
  ]
}