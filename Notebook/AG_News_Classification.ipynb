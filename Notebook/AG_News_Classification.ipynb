{
  "nbformat": 4,
  "nbformat_minor": 0,
  "metadata": {
    "colab": {
      "name": "AG News Classification.ipynb",
      "provenance": [],
      "collapsed_sections": []
    },
    "kernelspec": {
      "name": "python3",
      "display_name": "Python 3"
    },
    "accelerator": "GPU"
  },
  "cells": [
    {
      "cell_type": "markdown",
      "metadata": {
        "id": "EPZa3f42krwz"
      },
      "source": [
        "## Mount Drive"
      ]
    },
    {
      "cell_type": "code",
      "metadata": {
        "colab": {
          "base_uri": "https://localhost:8080/"
        },
        "id": "ASj6g5P2a9XU",
        "outputId": "3735378b-b084-46f2-b9ac-31d3801c62b2"
      },
      "source": [
        "from google.colab import drive\r\n",
        "drive.mount('/content/MyDrive')"
      ],
      "execution_count": 1,
      "outputs": [
        {
          "output_type": "stream",
          "text": [
            "Mounted at /content/MyDrive\n"
          ],
          "name": "stdout"
        }
      ]
    },
    {
      "cell_type": "markdown",
      "metadata": {
        "id": "VshARt06kwaM"
      },
      "source": [
        "## Libraries"
      ]
    },
    {
      "cell_type": "code",
      "metadata": {
        "id": "QhTKStzQdKFo"
      },
      "source": [
        "import pandas as pd\r\n",
        "import numpy as np\r\n",
        "\r\n",
        "#Data Visualization\r\n",
        "import matplotlib.pyplot as plt\r\n",
        "\r\n",
        "#Text Color\r\n",
        "from termcolor import colored\r\n",
        "\r\n",
        "#Train Test Split\r\n",
        "from sklearn.model_selection import train_test_split\r\n",
        "\r\n",
        "#Model Evaluation\r\n",
        "from sklearn.metrics import confusion_matrix, precision_score, recall_score, accuracy_score\r\n",
        "from mlxtend.plotting import plot_confusion_matrix\r\n",
        "\r\n",
        "#Deep Learning\r\n",
        "import tensorflow as tf\r\n",
        "from tensorflow.keras.models import Model, Sequential\r\n",
        "from tensorflow.keras.layers import Embedding, LSTM, Dense, Dropout, GlobalMaxPooling1D, Bidirectional\r\n",
        "from tensorflow.keras.preprocessing.text import Tokenizer\r\n",
        "from tensorflow.keras.optimizers import Adam\r\n",
        "from tensorflow.keras.preprocessing.sequence import pad_sequences\r\n",
        "from tensorflow.keras.callbacks import ModelCheckpoint, EarlyStopping\r\n",
        "from tensorflow.keras.utils import plot_model"
      ],
      "execution_count": 2,
      "outputs": []
    },
    {
      "cell_type": "markdown",
      "metadata": {
        "id": "goVtDzzelMOO"
      },
      "source": [
        "## Data Preprocessing"
      ]
    },
    {
      "cell_type": "code",
      "metadata": {
        "colab": {
          "base_uri": "https://localhost:8080/",
          "height": 204
        },
        "id": "J2g4NfecdWGw",
        "outputId": "cbb5076f-fb25-4736-f519-7746ac812caf"
      },
      "source": [
        "#File Path\r\n",
        "TRAIN_FILE_PATH = '/content/MyDrive/MyDrive/Data Science/Projects/SpoonShot/train.csv'\r\n",
        "TEST_FILE_PATH = '/content/MyDrive/MyDrive/Data Science/Projects/SpoonShot/test.csv'\r\n",
        "\r\n",
        "#Load Data\r\n",
        "data = pd.read_csv(TRAIN_FILE_PATH)\r\n",
        "testdata = pd.read_csv(TEST_FILE_PATH)\r\n",
        "\r\n",
        "#Set Column Names \r\n",
        "data.columns = ['ClassIndex', 'Title', 'Description']\r\n",
        "testdata.columns = ['ClassIndex', 'Title', 'Description']\r\n",
        "\r\n",
        "#Combine Title and Description\r\n",
        "X_train = data['Title'] + \" \" + data['Description'] # Combine title and description (better accuracy than using them as separate features)\r\n",
        "y_train = data['ClassIndex'].apply(lambda x: x-1).values # Class labels need to begin from 0\r\n",
        "\r\n",
        "x_test = testdata['Title'] + \" \" + testdata['Description'] # Combine title and description (better accuracy than using them as separate features)\r\n",
        "y_test = testdata['ClassIndex'].apply(lambda x: x-1).values # Class labels need to begin from 0\r\n",
        "\r\n",
        "#Max Length of sentences in Train Dataset\r\n",
        "maxlen = X_train.map(lambda x: len(x.split())).max()\r\n",
        "data.head()"
      ],
      "execution_count": 3,
      "outputs": [
        {
          "output_type": "execute_result",
          "data": {
            "text/html": [
              "<div>\n",
              "<style scoped>\n",
              "    .dataframe tbody tr th:only-of-type {\n",
              "        vertical-align: middle;\n",
              "    }\n",
              "\n",
              "    .dataframe tbody tr th {\n",
              "        vertical-align: top;\n",
              "    }\n",
              "\n",
              "    .dataframe thead th {\n",
              "        text-align: right;\n",
              "    }\n",
              "</style>\n",
              "<table border=\"1\" class=\"dataframe\">\n",
              "  <thead>\n",
              "    <tr style=\"text-align: right;\">\n",
              "      <th></th>\n",
              "      <th>ClassIndex</th>\n",
              "      <th>Title</th>\n",
              "      <th>Description</th>\n",
              "    </tr>\n",
              "  </thead>\n",
              "  <tbody>\n",
              "    <tr>\n",
              "      <th>0</th>\n",
              "      <td>3</td>\n",
              "      <td>Carlyle Looks Toward Commercial Aerospace (Reu...</td>\n",
              "      <td>Reuters - Private investment firm Carlyle Grou...</td>\n",
              "    </tr>\n",
              "    <tr>\n",
              "      <th>1</th>\n",
              "      <td>3</td>\n",
              "      <td>Oil and Economy Cloud Stocks' Outlook (Reuters)</td>\n",
              "      <td>Reuters - Soaring crude prices plus worries\\ab...</td>\n",
              "    </tr>\n",
              "    <tr>\n",
              "      <th>2</th>\n",
              "      <td>3</td>\n",
              "      <td>Iraq Halts Oil Exports from Main Southern Pipe...</td>\n",
              "      <td>Reuters - Authorities have halted oil export\\f...</td>\n",
              "    </tr>\n",
              "    <tr>\n",
              "      <th>3</th>\n",
              "      <td>3</td>\n",
              "      <td>Oil prices soar to all-time record, posing new...</td>\n",
              "      <td>AFP - Tearaway world oil prices, toppling reco...</td>\n",
              "    </tr>\n",
              "    <tr>\n",
              "      <th>4</th>\n",
              "      <td>3</td>\n",
              "      <td>Stocks End Up, But Near Year Lows (Reuters)</td>\n",
              "      <td>Reuters - Stocks ended slightly higher on Frid...</td>\n",
              "    </tr>\n",
              "  </tbody>\n",
              "</table>\n",
              "</div>"
            ],
            "text/plain": [
              "   ClassIndex  ...                                        Description\n",
              "0           3  ...  Reuters - Private investment firm Carlyle Grou...\n",
              "1           3  ...  Reuters - Soaring crude prices plus worries\\ab...\n",
              "2           3  ...  Reuters - Authorities have halted oil export\\f...\n",
              "3           3  ...  AFP - Tearaway world oil prices, toppling reco...\n",
              "4           3  ...  Reuters - Stocks ended slightly higher on Frid...\n",
              "\n",
              "[5 rows x 3 columns]"
            ]
          },
          "metadata": {
            "tags": []
          },
          "execution_count": 3
        }
      ]
    },
    {
      "cell_type": "markdown",
      "metadata": {
        "id": "0lZqq9zLrXMC"
      },
      "source": [
        "## Exploratory Data Analysis"
      ]
    },
    {
      "cell_type": "markdown",
      "metadata": {
        "id": "v8vJ7tio9bmR"
      },
      "source": [
        "### Data Shape"
      ]
    },
    {
      "cell_type": "code",
      "metadata": {
        "colab": {
          "base_uri": "https://localhost:8080/"
        },
        "id": "zSonlU5Ara6n",
        "outputId": "5c4ea250-bafa-4dfe-a36e-ad8d17c1d83e"
      },
      "source": [
        "data.shape, testdata.shape"
      ],
      "execution_count": 40,
      "outputs": [
        {
          "output_type": "execute_result",
          "data": {
            "text/plain": [
              "((119999, 3), (7599, 3))"
            ]
          },
          "metadata": {
            "tags": []
          },
          "execution_count": 40
        }
      ]
    },
    {
      "cell_type": "markdown",
      "metadata": {
        "id": "wzpW4SCu9eWl"
      },
      "source": [
        "### Value Counts"
      ]
    },
    {
      "cell_type": "code",
      "metadata": {
        "colab": {
          "base_uri": "https://localhost:8080/"
        },
        "id": "6ehyOshjromr",
        "outputId": "e2c81a05-ec81-4eb9-d830-a8015eb52bbf"
      },
      "source": [
        "#Checking Value counts to determine class balance\r\n",
        "data.ClassIndex.value_counts()"
      ],
      "execution_count": 42,
      "outputs": [
        {
          "output_type": "execute_result",
          "data": {
            "text/plain": [
              "4    30000\n",
              "2    30000\n",
              "1    30000\n",
              "3    29999\n",
              "Name: ClassIndex, dtype: int64"
            ]
          },
          "metadata": {
            "tags": []
          },
          "execution_count": 42
        }
      ]
    },
    {
      "cell_type": "code",
      "metadata": {
        "colab": {
          "base_uri": "https://localhost:8080/"
        },
        "id": "m_9MdzEss55g",
        "outputId": "f61078e2-9473-4f11-8224-ca579990c98c"
      },
      "source": [
        "testdata.ClassIndex.value_counts()"
      ],
      "execution_count": 4,
      "outputs": [
        {
          "output_type": "execute_result",
          "data": {
            "text/plain": [
              "2    1900\n",
              "1    1900\n",
              "4    1900\n",
              "3    1899\n",
              "Name: ClassIndex, dtype: int64"
            ]
          },
          "metadata": {
            "tags": []
          },
          "execution_count": 4
        }
      ]
    },
    {
      "cell_type": "markdown",
      "metadata": {
        "id": "UL-BO8rc9jHC"
      },
      "source": [
        "### Null Values"
      ]
    },
    {
      "cell_type": "code",
      "metadata": {
        "colab": {
          "base_uri": "https://localhost:8080/"
        },
        "id": "1ZuJcoiJ9Yss",
        "outputId": "9841a0bf-36e1-4171-d583-36f783b17663"
      },
      "source": [
        "#Train Data\r\n",
        "data.isnull().sum()"
      ],
      "execution_count": 5,
      "outputs": [
        {
          "output_type": "execute_result",
          "data": {
            "text/plain": [
              "ClassIndex     0\n",
              "Title          0\n",
              "Description    0\n",
              "dtype: int64"
            ]
          },
          "metadata": {
            "tags": []
          },
          "execution_count": 5
        }
      ]
    },
    {
      "cell_type": "code",
      "metadata": {
        "colab": {
          "base_uri": "https://localhost:8080/"
        },
        "id": "8e_5I-zc9pJz",
        "outputId": "80df5755-80e5-442c-a0d5-985f2045ec12"
      },
      "source": [
        "#Test Data\r\n",
        "testdata.isnull().sum()"
      ],
      "execution_count": 6,
      "outputs": [
        {
          "output_type": "execute_result",
          "data": {
            "text/plain": [
              "ClassIndex     0\n",
              "Title          0\n",
              "Description    0\n",
              "dtype: int64"
            ]
          },
          "metadata": {
            "tags": []
          },
          "execution_count": 6
        }
      ]
    },
    {
      "cell_type": "markdown",
      "metadata": {
        "id": "USpvicJifoQ8"
      },
      "source": [
        "## Tokenize and Pad Data"
      ]
    },
    {
      "cell_type": "code",
      "metadata": {
        "id": "QIaVaaiDe9m4"
      },
      "source": [
        "vocab_size = 10000 # arbitrarily chosen\r\n",
        "embed_size = 32 # arbitrarily chosen\r\n",
        "\r\n",
        "# Create and Fit tokenizer\r\n",
        "tok = Tokenizer(num_words=vocab_size)\r\n",
        "tok.fit_on_texts(X_train.values)\r\n",
        "\r\n",
        "# Tokenize data\r\n",
        "X_train = tok.texts_to_sequences(X_train)\r\n",
        "x_test = tok.texts_to_sequences(x_test)\r\n",
        "\r\n",
        "# Pad data\r\n",
        "X_train = pad_sequences(X_train, maxlen=maxlen)\r\n",
        "x_test = pad_sequences(x_test, maxlen=maxlen)"
      ],
      "execution_count": 8,
      "outputs": []
    },
    {
      "cell_type": "markdown",
      "metadata": {
        "id": "0UP_HEHffwLi"
      },
      "source": [
        "## Model"
      ]
    },
    {
      "cell_type": "markdown",
      "metadata": {
        "id": "kKh4ldNJmeBk"
      },
      "source": [
        "**BiDirectional LSTM** - Using bidirectional will run our inputs in two ways, one from past to future and one from future to past and what differs this approach from unidirectional is that in the LSTM that runs backwards we preserve information from the future and using the two hidden states combined we are able in any point in time to preserve information from both past and future."
      ]
    },
    {
      "cell_type": "code",
      "metadata": {
        "colab": {
          "base_uri": "https://localhost:8080/"
        },
        "id": "Zr0tX6QofrHd",
        "outputId": "c382e70b-5d77-4199-9370-e5b4921290cf"
      },
      "source": [
        "model = Sequential()\r\n",
        "model.add(Embedding(vocab_size, embed_size, input_length=maxlen))\r\n",
        "model.add(Bidirectional(LSTM(128, return_sequences=True))) \r\n",
        "model.add(Bidirectional(LSTM(64, return_sequences=True)))\r\n",
        "model.add(GlobalMaxPooling1D())\r\n",
        "model.add(Dense(1024))\r\n",
        "model.add(Dropout(0.25))\r\n",
        "model.add(Dense(512))\r\n",
        "model.add(Dropout(0.25))\r\n",
        "model.add(Dense(256))\r\n",
        "model.add(Dropout(0.25))\r\n",
        "model.add(Dense(128))\r\n",
        "model.add(Dropout(0.25))\r\n",
        "model.add(Dense(64))\r\n",
        "model.add(Dropout(0.25))\r\n",
        "model.add(Dense(4, activation='softmax')) #softmax is used as the activation function for multi-class classification problems where class membership is required on more than two class labels.\r\n",
        "model.summary()"
      ],
      "execution_count": 9,
      "outputs": [
        {
          "output_type": "stream",
          "text": [
            "Model: \"sequential\"\n",
            "_________________________________________________________________\n",
            "Layer (type)                 Output Shape              Param #   \n",
            "=================================================================\n",
            "embedding (Embedding)        (None, 177, 32)           320000    \n",
            "_________________________________________________________________\n",
            "bidirectional (Bidirectional (None, 177, 256)          164864    \n",
            "_________________________________________________________________\n",
            "bidirectional_1 (Bidirection (None, 177, 128)          164352    \n",
            "_________________________________________________________________\n",
            "global_max_pooling1d (Global (None, 128)               0         \n",
            "_________________________________________________________________\n",
            "dense (Dense)                (None, 1024)              132096    \n",
            "_________________________________________________________________\n",
            "dropout (Dropout)            (None, 1024)              0         \n",
            "_________________________________________________________________\n",
            "dense_1 (Dense)              (None, 512)               524800    \n",
            "_________________________________________________________________\n",
            "dropout_1 (Dropout)          (None, 512)               0         \n",
            "_________________________________________________________________\n",
            "dense_2 (Dense)              (None, 256)               131328    \n",
            "_________________________________________________________________\n",
            "dropout_2 (Dropout)          (None, 256)               0         \n",
            "_________________________________________________________________\n",
            "dense_3 (Dense)              (None, 128)               32896     \n",
            "_________________________________________________________________\n",
            "dropout_3 (Dropout)          (None, 128)               0         \n",
            "_________________________________________________________________\n",
            "dense_4 (Dense)              (None, 64)                8256      \n",
            "_________________________________________________________________\n",
            "dropout_4 (Dropout)          (None, 64)                0         \n",
            "_________________________________________________________________\n",
            "dense_5 (Dense)              (None, 4)                 260       \n",
            "=================================================================\n",
            "Total params: 1,478,852\n",
            "Trainable params: 1,478,852\n",
            "Non-trainable params: 0\n",
            "_________________________________________________________________\n"
          ],
          "name": "stdout"
        }
      ]
    },
    {
      "cell_type": "markdown",
      "metadata": {
        "id": "sgzzfcVpf1gA"
      },
      "source": [
        "## Compile and Fit Model"
      ]
    },
    {
      "cell_type": "code",
      "metadata": {
        "id": "5-q_1d0zfvex"
      },
      "source": [
        "callbacks = [\r\n",
        "    EarlyStopping(     #EarlyStopping is used to stop at the epoch where val_accuracy does not improve significantly\r\n",
        "        monitor='val_accuracy',\r\n",
        "        min_delta=1e-4,\r\n",
        "        patience=4,\r\n",
        "        verbose=1\r\n",
        "    ),\r\n",
        "    ModelCheckpoint(\r\n",
        "        filepath='weights.h5',\r\n",
        "        monitor='val_accuracy', \r\n",
        "        mode='max', \r\n",
        "        save_best_only=True,\r\n",
        "        save_weights_only=True,\r\n",
        "        verbose=1\r\n",
        "    )\r\n",
        "]"
      ],
      "execution_count": 10,
      "outputs": []
    },
    {
      "cell_type": "code",
      "metadata": {
        "colab": {
          "base_uri": "https://localhost:8080/"
        },
        "id": "VtRefm2uf1Az",
        "outputId": "ad9130e5-44f9-4fad-ee2c-e94fc9a60f33"
      },
      "source": [
        "#Compile and Fit Model\r\n",
        "\r\n",
        "model.compile(loss='sparse_categorical_crossentropy', #Sparse Categorical Crossentropy Loss because data is not one-hot encoded\r\n",
        "              optimizer='adam', \r\n",
        "              metrics=['accuracy']) \r\n",
        "\r\n",
        "model.fit(X_train, \r\n",
        "          y_train, \r\n",
        "          batch_size=256, \r\n",
        "          validation_data=(x_test, y_test), \r\n",
        "          epochs=20, \r\n",
        "          callbacks=callbacks)"
      ],
      "execution_count": 11,
      "outputs": [
        {
          "output_type": "stream",
          "text": [
            "Epoch 1/20\n",
            "469/469 [==============================] - 51s 84ms/step - loss: 0.6287 - accuracy: 0.7316 - val_loss: 0.2665 - val_accuracy: 0.9130\n",
            "\n",
            "Epoch 00001: val_accuracy improved from -inf to 0.91301, saving model to weights.h5\n",
            "Epoch 2/20\n",
            "469/469 [==============================] - 39s 83ms/step - loss: 0.2297 - accuracy: 0.9258 - val_loss: 0.2706 - val_accuracy: 0.9113\n",
            "\n",
            "Epoch 00002: val_accuracy did not improve from 0.91301\n",
            "Epoch 3/20\n",
            "469/469 [==============================] - 39s 83ms/step - loss: 0.1879 - accuracy: 0.9379 - val_loss: 0.2643 - val_accuracy: 0.9114\n",
            "\n",
            "Epoch 00003: val_accuracy did not improve from 0.91301\n",
            "Epoch 4/20\n",
            "469/469 [==============================] - 39s 83ms/step - loss: 0.1582 - accuracy: 0.9476 - val_loss: 0.2813 - val_accuracy: 0.9139\n",
            "\n",
            "Epoch 00004: val_accuracy improved from 0.91301 to 0.91394, saving model to weights.h5\n",
            "Epoch 5/20\n",
            "469/469 [==============================] - 39s 83ms/step - loss: 0.1268 - accuracy: 0.9558 - val_loss: 0.3234 - val_accuracy: 0.9031\n",
            "\n",
            "Epoch 00005: val_accuracy did not improve from 0.91394\n",
            "Epoch 6/20\n",
            "469/469 [==============================] - 39s 83ms/step - loss: 0.1027 - accuracy: 0.9646 - val_loss: 0.3423 - val_accuracy: 0.9068\n",
            "\n",
            "Epoch 00006: val_accuracy did not improve from 0.91394\n",
            "Epoch 7/20\n",
            "469/469 [==============================] - 40s 84ms/step - loss: 0.0755 - accuracy: 0.9741 - val_loss: 0.4077 - val_accuracy: 0.8983\n",
            "\n",
            "Epoch 00007: val_accuracy did not improve from 0.91394\n",
            "Epoch 8/20\n",
            "469/469 [==============================] - 39s 84ms/step - loss: 0.0638 - accuracy: 0.9779 - val_loss: 0.4023 - val_accuracy: 0.9060\n",
            "\n",
            "Epoch 00008: val_accuracy did not improve from 0.91394\n",
            "Epoch 00008: early stopping\n"
          ],
          "name": "stdout"
        },
        {
          "output_type": "execute_result",
          "data": {
            "text/plain": [
              "<tensorflow.python.keras.callbacks.History at 0x7f1af7bea240>"
            ]
          },
          "metadata": {
            "tags": []
          },
          "execution_count": 11
        }
      ]
    },
    {
      "cell_type": "markdown",
      "metadata": {
        "id": "wDTCvp8GgBrZ"
      },
      "source": [
        "## Load Weights with Best val Accuracy"
      ]
    },
    {
      "cell_type": "code",
      "metadata": {
        "id": "T-MMQ-HDf8Oo"
      },
      "source": [
        "model.load_weights('weights.h5')\r\n",
        "model.save('model.hdf5')"
      ],
      "execution_count": 12,
      "outputs": []
    },
    {
      "cell_type": "markdown",
      "metadata": {
        "id": "s_kfJnmngKKE"
      },
      "source": [
        "## Model Demo"
      ]
    },
    {
      "cell_type": "code",
      "metadata": {
        "id": "ZQuZfwhBD4Ie"
      },
      "source": [
        "def modelDemo(news_text):\r\n",
        "\r\n",
        "  #News Labels\r\n",
        "  labels = ['World News', 'Sports News', 'Business News', 'Science-Technology News']\r\n",
        "\r\n",
        "  test_seq = pad_sequences(tok.texts_to_sequences(news_text), maxlen=maxlen)\r\n",
        "\r\n",
        "  test_preds = [labels[np.argmax(i)] for i in model.predict(test_seq)]\r\n",
        "\r\n",
        "  for news, label in zip(news_text, test_preds):\r\n",
        "      # print('{} - {}'.format(news, label))\r\n",
        "      print('{} - {}'.format(colored(news, 'yellow'), colored(label, 'blue')))\r\n"
      ],
      "execution_count": 24,
      "outputs": []
    },
    {
      "cell_type": "code",
      "metadata": {
        "colab": {
          "base_uri": "https://localhost:8080/"
        },
        "id": "CDf9lcCbgMio",
        "outputId": "65ae9ab0-748d-48d0-adb4-7dc52219617e"
      },
      "source": [
        "modelDemo(['New evidence of virus risks from wildlife trade'])"
      ],
      "execution_count": 26,
      "outputs": [
        {
          "output_type": "stream",
          "text": [
            "\u001b[33mNew evidence of virus risks from wildlife trade\u001b[0m - \u001b[34mScience-Technology News\u001b[0m\n"
          ],
          "name": "stdout"
        }
      ]
    },
    {
      "cell_type": "code",
      "metadata": {
        "colab": {
          "base_uri": "https://localhost:8080/"
        },
        "id": "eHGCrE5QGM8h",
        "outputId": "0411d085-851c-491e-954e-f96b780d26dd"
      },
      "source": [
        "modelDemo(['Coronavirus: Bank pumps £100bn into UK economy to aid recovery'])"
      ],
      "execution_count": 27,
      "outputs": [
        {
          "output_type": "stream",
          "text": [
            "\u001b[33mCoronavirus: Bank pumps £100bn into UK economy to aid recovery\u001b[0m - \u001b[34mBusiness News\u001b[0m\n"
          ],
          "name": "stdout"
        }
      ]
    },
    {
      "cell_type": "code",
      "metadata": {
        "colab": {
          "base_uri": "https://localhost:8080/"
        },
        "id": "RwR7WtOsGPKr",
        "outputId": "7b596a86-cbda-40b4-d7ad-b0739518c858"
      },
      "source": [
        "modelDemo(['Trump\\'s bid to end Obama-era immigration policy ruled unlawful'])"
      ],
      "execution_count": 28,
      "outputs": [
        {
          "output_type": "stream",
          "text": [
            "\u001b[33mTrump's bid to end Obama-era immigration policy ruled unlawful\u001b[0m - \u001b[34mWorld News\u001b[0m\n"
          ],
          "name": "stdout"
        }
      ]
    },
    {
      "cell_type": "code",
      "metadata": {
        "colab": {
          "base_uri": "https://localhost:8080/"
        },
        "id": "CV_QQqOvGRP-",
        "outputId": "01e6c123-c25d-4608-b69e-5641d6ef7904"
      },
      "source": [
        "modelDemo(['David Luiz’s future with Arsenal to be decided this week'])"
      ],
      "execution_count": 29,
      "outputs": [
        {
          "output_type": "stream",
          "text": [
            "\u001b[33mDavid Luiz’s future with Arsenal to be decided this week\u001b[0m - \u001b[34mSports News\u001b[0m\n"
          ],
          "name": "stdout"
        }
      ]
    },
    {
      "cell_type": "code",
      "metadata": {
        "colab": {
          "base_uri": "https://localhost:8080/"
        },
        "id": "_xT-m6eSGTwB",
        "outputId": "98ab8f22-7b20-4cd0-971a-5ba35422babf"
      },
      "source": [
        "modelDemo(['Indian Economic budget supports the underprivileged sections of society'])"
      ],
      "execution_count": 30,
      "outputs": [
        {
          "output_type": "stream",
          "text": [
            "\u001b[33mIndian Economic budget supports the underprivileged sections of society\u001b[0m - \u001b[34mBusiness News\u001b[0m\n"
          ],
          "name": "stdout"
        }
      ]
    },
    {
      "cell_type": "markdown",
      "metadata": {
        "id": "pbry6RbQgQzQ"
      },
      "source": [
        "## Model Evaluation"
      ]
    },
    {
      "cell_type": "markdown",
      "metadata": {
        "id": "cLEKOeTUoSI9"
      },
      "source": [
        "### Confusion Matrix"
      ]
    },
    {
      "cell_type": "code",
      "metadata": {
        "colab": {
          "base_uri": "https://localhost:8080/",
          "height": 734
        },
        "id": "HZow3p11gUex",
        "outputId": "693f663d-3af0-4f1f-8d94-2c09944d6e79"
      },
      "source": [
        "preds = [np.argmax(i) for i in model.predict(x_test)]\r\n",
        "cm  = confusion_matrix(y_test, preds)\r\n",
        "plt.figure()\r\n",
        "plot_confusion_matrix(cm, figsize=(16,12), hide_ticks=True, cmap=plt.cm.Blues)\r\n",
        "plt.xticks(range(4), labels, fontsize=12)\r\n",
        "plt.yticks(range(4), labels, fontsize=12)\r\n",
        "plt.show()"
      ],
      "execution_count": 31,
      "outputs": [
        {
          "output_type": "display_data",
          "data": {
            "text/plain": [
              "<Figure size 432x288 with 0 Axes>"
            ]
          },
          "metadata": {
            "tags": []
          }
        },
        {
          "output_type": "display_data",
          "data": {
            "image/png": "[encoded data removed]",
            "text/plain": [
              "<Figure size 1152x864 with 1 Axes>"
            ]
          },
          "metadata": {
            "tags": [],
            "needs_background": "light"
          }
        }
      ]
    },
    {
      "cell_type": "markdown",
      "metadata": {
        "id": "LtJzlv3agZqq"
      },
      "source": [
        "### Recall, Precision and Accuracy"
      ]
    },
    {
      "cell_type": "code",
      "metadata": {
        "colab": {
          "base_uri": "https://localhost:8080/"
        },
        "id": "AO_8EartgbcE",
        "outputId": "1802de9c-f20a-4879-c960-62670e4d4b02"
      },
      "source": [
        "print(\"Recall of the model is {:.2f}\".format(recall_score(y_test, preds, average='micro')))\r\n",
        "print(\"Precision of the model is {:.2f}\".format(precision_score(y_test, preds, average='micro')))\r\n",
        "print(\"Accuracy of the model is {:.2f}\".format(accuracy_score(y_test, preds)))"
      ],
      "execution_count": 32,
      "outputs": [
        {
          "output_type": "stream",
          "text": [
            "Recall of the model is 0.91\n",
            "Precision of the model is 0.91\n",
            "Accuracy of the model is 0.91\n"
          ],
          "name": "stdout"
        }
      ]
    }
  ]
}